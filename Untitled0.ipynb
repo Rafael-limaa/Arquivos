{
  "nbformat": 4,
  "nbformat_minor": 0,
  "metadata": {
    "colab": {
      "provenance": [],
      "authorship_tag": "ABX9TyO3Q6ZtbZzmipE/QWcO/a/C",
      "include_colab_link": true
    },
    "kernelspec": {
      "name": "python3",
      "display_name": "Python 3"
    },
    "language_info": {
      "name": "python"
    }
  },
  "cells": [
    {
      "cell_type": "markdown",
      "metadata": {
        "id": "view-in-github",
        "colab_type": "text"
      },
      "source": [
        "<a href=\"https://colab.research.google.com/github/Rafael-limaa/Arquivos/blob/main/Untitled0.ipynb\" target=\"_parent\"><img src=\"https://colab.research.google.com/assets/colab-badge.svg\" alt=\"Open In Colab\"/></a>"
      ]
    },
    {
      "cell_type": "markdown",
      "source": [
        "Nome e idades"
      ],
      "metadata": {
        "id": "wbqFfmmIn3k-"
      }
    },
    {
      "cell_type": "code",
      "source": [
        "import matplotlib.pyplot as plt\n",
        "nome_salario = {'Rafael': 22.000, 'Karina': 26.000, 'Paula': 17.000, 'Gabriel': 18.000}\n",
        "\n",
        "plt.bar(nome_salario.keys(), nome_salario.values())"
      ],
      "metadata": {
        "id": "8lA2UYQs15no",
        "outputId": "978706d8-279d-4a6b-f267-f695c8ce23d5",
        "colab": {
          "base_uri": "https://localhost:8080/",
          "height": 283
        }
      },
      "execution_count": null,
      "outputs": [
        {
          "output_type": "execute_result",
          "data": {
            "text/plain": [
              "<BarContainer object of 4 artists>"
            ]
          },
          "metadata": {},
          "execution_count": 1
        },
        {
          "output_type": "display_data",
          "data": {
            "text/plain": [
              "<Figure size 432x288 with 1 Axes>"
            ],
            "image/png": "[encoded data removed]"
          },
          "metadata": {
            "needs_background": "light"
          }
        }
      ]
    },
    {
      "cell_type": "code",
      "source": [
        "import matplotlib.pyplot as plt"
      ],
      "metadata": {
        "id": "ck61dl5Rx5KI"
      },
      "execution_count": null,
      "outputs": []
    },
    {
      "cell_type": "code",
      "source": [
        "#Dicionario\n",
        "nome_idade = {'Rafael':29, 'Marcio': 44, 'Luanna': 43, 'Lilian': 26, 'Mario': 32}\n",
        "for i in nome_idade.items():\n",
        "  print(i)"
      ],
      "metadata": {
        "colab": {
          "base_uri": "https://localhost:8080/"
        },
        "id": "WMaj6I0AvyLc",
        "outputId": "542d31b6-2e8b-476a-ffd9-65bec3930420"
      },
      "execution_count": null,
      "outputs": [
        {
          "output_type": "stream",
          "name": "stdout",
          "text": [
            "('Rafael', 29)\n",
            "('Marcio', 44)\n",
            "('Luanna', 43)\n",
            "('Lilian', 26)\n",
            "('Mario', 32)\n"
          ]
        }
      ]
    },
    {
      "cell_type": "code",
      "source": [
        "plt.figure(figsize = (10, 5))\n",
        "plt.bar(nome_idade.keys(), nome_idade.values())\n",
        "plt.xlabel('Nome')\n",
        "plt.ylabel('Idade')\n",
        "plt.title('Grupo 06')\n",
        "plt.show()"
      ],
      "metadata": {
        "colab": {
          "base_uri": "https://localhost:8080/",
          "height": 350
        },
        "id": "ONnkv-kOyEM4",
        "outputId": "1a0c44c0-be82-4195-b2e9-f937c6bb2ffe"
      },
      "execution_count": null,
      "outputs": [
        {
          "output_type": "display_data",
          "data": {
            "text/plain": [
              "<Figure size 720x360 with 1 Axes>"
            ],
            "image/png": "[encoded data removed]"
          },
          "metadata": {
            "needs_background": "light"
          }
        }
      ]
    },
    {
      "cell_type": "code",
      "source": [
        "import matplotlib.pyplot as plt\n",
        "\n",
        "\n",
        "plt.figure(figsize = (10, 5))\n",
        "nome_salario = {'Rafael': 22.000, 'Karina': 26.000, 'Paula': 17.000, 'Gabriel': 18.000}\n",
        "\n",
        "plt.bar(nome_salario.keys(), nome_salario.values())"
      ],
      "metadata": {
        "id": "NdElDLUrg60x",
        "outputId": "eb501144-a5c8-4fed-e69c-e9d721ac0722",
        "colab": {
          "base_uri": "https://localhost:8080/",
          "height": 338
        }
      },
      "execution_count": null,
      "outputs": [
        {
          "output_type": "execute_result",
          "data": {
            "text/plain": [
              "<BarContainer object of 4 artists>"
            ]
          },
          "metadata": {},
          "execution_count": 1
        },
        {
          "output_type": "display_data",
          "data": {
            "text/plain": [
              "<Figure size 720x360 with 1 Axes>"
            ],
            "image/png": "[encoded data removed]"
          },
          "metadata": {
            "needs_background": "light"
          }
        }
      ]
    },
    {
      "cell_type": "code",
      "execution_count": null,
      "metadata": {
        "id": "-9Mbg4FZn22r"
      },
      "outputs": [],
      "source": [
        "import matplotlib.pyplot as plt"
      ]
    },
    {
      "cell_type": "code",
      "source": [
        "nome = ['Rafael', 'Marcio', 'Luanna', 'Lilian', 'Lisandro', 'Mario', 'Denison']\n",
        "idade = [29, 44, 28, 43, 44, 32, 37]\n"
      ],
      "metadata": {
        "id": "ON62dPATuuFQ"
      },
      "execution_count": null,
      "outputs": []
    },
    {
      "cell_type": "code",
      "source": [
        "for i in nome, idade:\n",
        "  print(i)"
      ],
      "metadata": {
        "colab": {
          "base_uri": "https://localhost:8080/"
        },
        "id": "Nt5PCoQevE1f",
        "outputId": "98620ad4-0f97-4197-af00-7d09468bd1b3"
      },
      "execution_count": null,
      "outputs": [
        {
          "output_type": "stream",
          "name": "stdout",
          "text": [
            "['Rafael', 'Marcio', 'Luanna', 'Lilian', 'LisandroMadson', 'Mario', 'Denison']\n",
            "[29, 44, 28, 43, 44, 32, 37]\n"
          ]
        }
      ]
    },
    {
      "cell_type": "code",
      "source": [
        "plt.figure(figsize=(10, 5))\n",
        "plt.bar(nome, idade)\n",
        "plt.title('Nomes e Idades')\n",
        "plt.show()\n"
      ],
      "metadata": {
        "colab": {
          "base_uri": "https://localhost:8080/",
          "height": 336
        },
        "id": "AaZXpN4nvKiF",
        "outputId": "e4757044-62e7-4210-900d-84e8753ab580"
      },
      "execution_count": null,
      "outputs": [
        {
          "output_type": "display_data",
          "data": {
            "text/plain": [
              "<Figure size 720x360 with 1 Axes>"
            ],
            "image/png": "[encoded data removed]"
          },
          "metadata": {
            "needs_background": "light"
          }
        }
      ]
    },
    {
      "cell_type": "code",
      "source": [
        "nome = ['Rafael', 'Marcio', 'Luanna', 'Lilian', 'Lisandro', 'Mario', 'Denison']\n",
        "salario = [30.000, 15.000, 10.000, 50.000, 45.000, 60.000, 80.000]\n"
      ],
      "metadata": {
        "id": "qacgtMYJwzJB"
      },
      "execution_count": null,
      "outputs": []
    },
    {
      "cell_type": "code",
      "source": [
        "plt.figure(figsize=(10, 5))\n",
        "plt.bar(nome, salario)\n",
        "plt.title('Nomes e salario')\n",
        "plt.show()"
      ],
      "metadata": {
        "colab": {
          "base_uri": "https://localhost:8080/",
          "height": 336
        },
        "id": "gfNF33pbyX0j",
        "outputId": "b70b57fe-ee2c-45a9-f227-71e1cb9ba4ca"
      },
      "execution_count": null,
      "outputs": [
        {
          "output_type": "display_data",
          "data": {
            "text/plain": [
              "<Figure size 720x360 with 1 Axes>"
            ],
            "image/png": "[encoded data removed]"
          },
          "metadata": {
            "needs_background": "light"
          }
        }
      ]
    }
  ]
}