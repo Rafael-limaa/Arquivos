{
  "nbformat": 4,
  "nbformat_minor": 0,
  "metadata": {
    "colab": {
      "provenance": [],
      "authorship_tag": "ABX9TyNTDrlhIFLhbTxS73Hh8K5i",
      "include_colab_link": true
    },
    "kernelspec": {
      "name": "python3",
      "display_name": "Python 3"
    },
    "language_info": {
      "name": "python"
    }
  },
  "cells": [
    {
      "cell_type": "markdown",
      "metadata": {
        "id": "view-in-github",
        "colab_type": "text"
      },
      "source": [
        "<a href=\"https://colab.research.google.com/github/Rafael-limaa/Arquivos/blob/main/C%C3%B3pia_de_Untitled0.ipynb\" target=\"_parent\"><img src=\"https://colab.research.google.com/assets/colab-badge.svg\" alt=\"Open In Colab\"/></a>"
      ]
    },
    {
      "cell_type": "markdown",
      "source": [
        "Nome e idades"
      ],
      "metadata": {
        "id": "wbqFfmmIn3k-"
      }
    },
    {
      "cell_type": "code",
      "execution_count": null,
      "metadata": {
        "id": "-9Mbg4FZn22r"
      },
      "outputs": [],
      "source": [
        "import matplotlib.pyplot as plt"
      ]
    },
    {
      "cell_type": "code",
      "source": [
        "nome = ['Rafael', 'Marcio', 'Luanna', 'Lilian', 'Lisandro' 'Madson', 'Mario', 'Denison']\n",
        "idade = [29, 44, 28, 43, 44, 32, 37]\n"
      ],
      "metadata": {
        "id": "ON62dPATuuFQ"
      },
      "execution_count": null,
      "outputs": []
    },
    {
      "cell_type": "code",
      "source": [
        "for i in nome, idade:\n",
        "  print(i)"
      ],
      "metadata": {
        "colab": {
          "base_uri": "https://localhost:8080/"
        },
        "id": "Nt5PCoQevE1f",
        "outputId": "98620ad4-0f97-4197-af00-7d09468bd1b3"
      },
      "execution_count": null,
      "outputs": [
        {
          "output_type": "stream",
          "name": "stdout",
          "text": [
            "['Rafael', 'Marcio', 'Luanna', 'Lilian', 'LisandroMadson', 'Mario', 'Denison']\n",
            "[29, 44, 28, 43, 44, 32, 37]\n"
          ]
        }
      ]
    },
    {
      "cell_type": "code",
      "source": [
        "plt.bar(nome, idade)\n",
        "plt.title('Nomes e Idades')"
      ],
      "metadata": {
        "colab": {
          "base_uri": "https://localhost:8080/",
          "height": 299
        },
        "id": "AaZXpN4nvKiF",
        "outputId": "040c57c0-59cd-433e-b01e-8d366d6e52c9"
      },
      "execution_count": null,
      "outputs": [
        {
          "output_type": "execute_result",
          "data": {
            "text/plain": [
              "Text(0.5, 1.0, 'Nomes e Idades')"
            ]
          },
          "metadata": {},
          "execution_count": 33
        },
        {
          "output_type": "display_data",
          "data": {
            "text/plain": [
              "<Figure size 432x288 with 1 Axes>"
            ],
            "image/png": "[encoded data removed]"
          },
          "metadata": {
            "needs_background": "light"
          }
        }
      ]
    },
    {
      "cell_type": "code",
      "source": [
        "nome = ['Rafael', 'Marcio', 'Luanna', 'Lilian', 'Lisandro' 'Madson', 'Mario', 'Denison']\n",
        "salario = [30.000, 15.000, 10.000, 50.000, 45.000, 60.000, 80.000]\n"
      ],
      "metadata": {
        "id": "qacgtMYJwzJB"
      },
      "execution_count": null,
      "outputs": []
    },
    {
      "cell_type": "code",
      "source": [
        "plt.bar(nome, salario)\n",
        "plt.title('Nomes e salario')"
      ],
      "metadata": {
        "colab": {
          "base_uri": "https://localhost:8080/",
          "height": 299
        },
        "id": "gfNF33pbyX0j",
        "outputId": "1febf1cf-ee4e-4b85-8bc3-8df921f1a44a"
      },
      "execution_count": null,
      "outputs": [
        {
          "output_type": "execute_result",
          "data": {
            "text/plain": [
              "Text(0.5, 1.0, 'Nomes e salario')"
            ]
          },
          "metadata": {},
          "execution_count": 42
        },
        {
          "output_type": "display_data",
          "data": {
            "text/plain": [
              "<Figure size 432x288 with 1 Axes>"
            ],
            "image/png": "[encoded data removed]"
          },
          "metadata": {
            "needs_background": "light"
          }
        }
      ]
    }
  ]
}